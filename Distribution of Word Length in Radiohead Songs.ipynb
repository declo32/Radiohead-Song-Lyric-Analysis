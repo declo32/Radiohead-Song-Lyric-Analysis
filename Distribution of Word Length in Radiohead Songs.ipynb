{
 "cells": [
  {
   "cell_type": "markdown",
   "metadata": {},
   "source": [
    "# Radiohead Song Lyric Analysis\n",
    "## Distribution of Word Length in Radiohead Songs"
   ]
  },
  {
   "cell_type": "markdown",
   "metadata": {},
   "source": [
    "[lyrics.csv](lyrics.csv) is a csv file where each row is a Radiohead song, and there are columns for `album`, `artist`, `lyrics`, and `title`. To read it into Python, we will use `pandas`."
   ]
  },
  {
   "cell_type": "code",
   "execution_count": 1,
   "metadata": {
    "collapsed": true
   },
   "outputs": [],
   "source": [
    "import pandas as pd\n",
    "df = pd.read_csv(\"lyrics.csv\", index_col=0)\n",
    "df[\"lyrics\"] = df[\"lyrics\"].fillna(\"\")  # Empty lyrics come up as NaN"
   ]
  },
  {
   "cell_type": "markdown",
   "metadata": {},
   "source": [
    "We only want to work with the lyrics, so it would make sense to concatenate them all into a string. Also, it should be made lowercase, so that \"The\" and \"the\" are considered the same word. Also, we aren't concerned about punctuation, so we can get rid of that."
   ]
  },
  {
   "cell_type": "code",
   "execution_count": 2,
   "metadata": {
    "collapsed": false
   },
   "outputs": [],
   "source": [
    "import string\n",
    "lyrics = \"\\n\".join(list(df[\"lyrics\"]))\n",
    "lyrics = lyrics.lower()\n",
    "lyrics = \"\".join(char for char in lyrics if char not in string.punctuation)  # THIS IS REALLY BAD"
   ]
  },
  {
   "cell_type": "markdown",
   "metadata": {},
   "source": [
    "In natural language processing, splitting up a text into different parts is called \"tokenization\", and the parts are called \"tokens\". The `nltk` library has a nice way to tokenize by words: `nltk.word_tokenize`."
   ]
  },
  {
   "cell_type": "code",
   "execution_count": 3,
   "metadata": {
    "collapsed": true
   },
   "outputs": [],
   "source": [
    "import nltk\n",
    "word_tokens = nltk.word_tokenize(lyrics)"
   ]
  },
  {
   "cell_type": "markdown",
   "metadata": {},
   "source": [
    "This returns a `list` of every word, but it would be easier to work with a `pandas.DataFrame`, like before."
   ]
  },
  {
   "cell_type": "code",
   "execution_count": 4,
   "metadata": {
    "collapsed": false
   },
   "outputs": [],
   "source": [
    "words = pd.DataFrame(word_tokens, columns=[\"word\"])"
   ]
  },
  {
   "cell_type": "markdown",
   "metadata": {},
   "source": [
    "We can add another column to the `pandas.DataFrame` to get the length of a word."
   ]
  },
  {
   "cell_type": "code",
   "execution_count": 5,
   "metadata": {
    "collapsed": true
   },
   "outputs": [],
   "source": [
    "words[\"length\"] = words[\"word\"].apply(len)"
   ]
  },
  {
   "cell_type": "markdown",
   "metadata": {},
   "source": [
    "To plot this as a histogram, we can use `matplotlib.pyplot`."
   ]
  },
  {
   "cell_type": "code",
   "execution_count": 6,
   "metadata": {
    "collapsed": false
   },
   "outputs": [
    {
     "data": {
      "image/png": "[encoded data removed]",
      "text/plain": [
       "<matplotlib.figure.Figure at 0x1a6eca55940>"
      ]
     },
     "metadata": {},
     "output_type": "display_data"
    }
   ],
   "source": [
    "from matplotlib import pyplot as plt\n",
    "\n",
    "plt.hist(words[\"length\"])\n",
    "plt.show()"
   ]
  },
  {
   "cell_type": "markdown",
   "metadata": {},
   "source": [
    "# TODO: Make analysis"
   ]
  },
  {
   "cell_type": "code",
   "execution_count": null,
   "metadata": {
    "collapsed": true
   },
   "outputs": [],
   "source": []
  }
 ],
 "metadata": {
  "anaconda-cloud": {},
  "kernelspec": {
   "display_name": "Python [conda root]",
   "language": "python",
   "name": "conda-root-py"
  },
  "language_info": {
   "codemirror_mode": {
    "name": "ipython",
    "version": 3
   },
   "file_extension": ".py",
   "mimetype": "text/x-python",
   "name": "python",
   "nbconvert_exporter": "python",
   "pygments_lexer": "ipython3",
   "version": "3.5.2"
  }
 },
 "nbformat": 4,
 "nbformat_minor": 1
}
