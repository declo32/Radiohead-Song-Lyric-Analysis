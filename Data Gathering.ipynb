{
 "cells": [
  {
   "cell_type": "markdown",
   "metadata": {},
   "source": [
    "# Radiohead Song Lyric Analysis\n",
    "### Data Gathering"
   ]
  },
  {
   "cell_type": "markdown",
   "metadata": {},
   "source": [
    "Before we can perform analysis on Radiohead song lyrics, we need to obtain and organize them. To start, I decided on the songs that I wanted the lyrics for. Radiohead has a lot of songs, but I only wanted the ones from their nine studio albums (I'm more familiar with these so working with them should be easier). Using data from [Wikipedia](https://en.wikipedia.org/wiki/Radiohead_discography), I put them into a [`yaml` file](Radiohead-Discography.yaml), organized them by album and song title."
   ]
  },
  {
   "cell_type": "markdown",
   "metadata": {},
   "source": [
    "Now that I have the names, I need the corresponding lyrics. I was able to find the following code on [Quora](https://www.quora.com/Whats-a-good-api-to-use-to-get-song-lyrics), created by [Sagun Shrestha](https://www.quora.com/profile/Sagun-Shrestha-7), to get lyrics from [azlyrics.com](azlyrics.com):"
   ]
  },
  {
   "cell_type": "code",
   "execution_count": 1,
   "metadata": {
    "collapsed": true
   },
   "outputs": [],
   "source": [
    "import re\n",
    "import urllib.request\n",
    "from bs4 import BeautifulSoup\n",
    "\n",
    "def get_lyrics(artist, song_title):\n",
    "    artist = artist.lower()\n",
    "    song_title = song_title.lower()\n",
    "    # remove all except alphanumeric characters from artist and song_title\n",
    "    artist = re.sub('[^A-Za-z0-9]+', \"\", artist)\n",
    "    song_title = re.sub('[^A-Za-z0-9]+', \"\", song_title)\n",
    "    if artist.startswith(\"the\"):  # remove starting 'the' from artist e.g. the who -> who\n",
    "        artist = artist[3:]\n",
    "    url = \"http://azlyrics.com/lyrics/\" + artist + \"/\" + song_title + \".html\"\n",
    "\n",
    "    try:\n",
    "        content = urllib.request.urlopen(url).read()\n",
    "    except Exception as e:\n",
    "        print(e)\n",
    "        return None\n",
    "    soup = BeautifulSoup(content, 'html.parser')\n",
    "    lyrics = str(soup)\n",
    "    # lyrics lie between up_partition and down_partition\n",
    "    up_partition = '<!-- Usage of azlyrics.com content by any third-party lyrics provider is prohibited by our licensing agreement. Sorry about that. -->'\n",
    "    down_partition = '<!-- MxM banner -->'\n",
    "    lyrics = lyrics.split(up_partition)[1]\n",
    "    lyrics = lyrics.split(down_partition)[0]\n",
    "    lyrics = lyrics.replace('<br>', '').replace('</br>', '').replace('</div>', '').strip()\n",
    "    return lyrics\n"
   ]
  },
  {
   "cell_type": "markdown",
   "metadata": {},
   "source": [
    "To test, let's grab the lyrics for their song \"Kid A\" (I can never tell what they're saying there):"
   ]
  },
  {
   "cell_type": "code",
   "execution_count": 2,
   "metadata": {
    "collapsed": false
   },
   "outputs": [
    {
     "name": "stdout",
     "output_type": "stream",
     "text": [
      "I slipped away\r\n",
      "I slipped on a little white lie\n",
      "\r\n",
      "We got heads on sticks\r\n",
      "You got ventriloquists\r\n",
      "We got heads on sticks\r\n",
      "You got ventriloquists\n",
      "\r\n",
      "Standing in the shadows at the end of my bed <i>[x4]</i>\n",
      "\r\n",
      "Rats and children follow me out of town\r\n",
      "Rats and children follow me out of town\r\n",
      "Come on kids...\n"
     ]
    }
   ],
   "source": [
    "print(get_lyrics(\"Radiohead\", \"Kid A\"))"
   ]
  },
  {
   "cell_type": "markdown",
   "metadata": {},
   "source": [
    "That's nice. With that done, it was only a matter of looping through the `yaml` file and getting the lyrics for each song. After doing this, I put them into a [`csv` file](lyrics.csv) with columns for `artist`, `album`, `song`, and `lyrics`."
   ]
  },
  {
   "cell_type": "markdown",
   "metadata": {},
   "source": [
    "This process worked for most songs, but the following did not give lyrics:  \n",
    "- How Do You Do?\n",
    "- High and Dry\n",
    "- ***Treefingers***\n",
    "- Packt Like Sardines in a Crushd Tin Box\n",
    "- Pulk/Pull Revolving Doors\n",
    "- Morning Bell/Amnesiac\n",
    "- ***Hunting Bears***\n",
    "- 2 + 2 = 5 (The Lukewarm.)\n",
    "- Sit Down. Stand Up. (Snakes & Ladders.)\n",
    "- Sail to the Moon. (Brush the Cobwebs out of th...\n",
    "- Backdrifts. (Honeymoon is Over.)\n",
    "- Go to Sleep. (Little Man being Erased.)\n",
    "- Where I End and You Begin. (The Sky is Falling...\n",
    "- We suck Young Blood. (Your Time is up.)\n",
    "- The Gloaming. (Softly Open our Mouths in the C...\n",
    "- There there. (The Boney King of Nowhere.)\n",
    "- I Will. (No man's Land.)\n",
    "- A Punchup at a Wedding. (No no no no no no no ...\n",
    "- Myxomatosis. (Judge, Jury & Executioner.)\n",
    "- Scatterbrain. (As Dead as Leaves.)\n",
    "- A Wolf at the Door. (It Girl. Rag Doll.)\n",
    "- ***Feral***\n",
    "\n",
    "For some songs in the list, this is because they have no lyrics. Those songs are emboldened and italicized.  \n",
    "\n",
    "For the other songs, it's because [azlyrics.com](azlyrics.com) has them under a different name than I do:  \n",
    "- How Do You Do? -> How Do You ~~Do~~?  \n",
    "- High and Dry -> High **&** Dry  \n",
    "- Packt Like Sardines in a Crushd Tin Box -> Packt Like Sardines in a Crush**e**d Tin Box  \n",
    "- Pulk/Pull Revolving Doors -> **Pull / Pulk** Revolving Doors  \n",
    "- Morning Bell/Amnesiac -> **Amnesiac / Morning Bell**  \n",
    "\n",
    "All of the songs with parentheses in the title are from the album Hail to the Thief, where each song was given two names. [azlyrics.com](azlyrics.com) only uses the first name for these."
   ]
  },
  {
   "cell_type": "markdown",
   "metadata": {},
   "source": [
    "### Data Cleanup"
   ]
  },
  {
   "cell_type": "markdown",
   "metadata": {},
   "source": [
    "Sometimes the lyrics given by [azlyrics.com](azlyrics.com) were not in a useful form."
   ]
  },
  {
   "cell_type": "markdown",
   "metadata": {},
   "source": [
    "In certain songs, words or phrases are repeated, and the transcriber would put a sign to repeat them. This is good for humans, but not for a computer. Here's a good example:"
   ]
  },
  {
   "cell_type": "code",
   "execution_count": 3,
   "metadata": {
    "collapsed": false
   },
   "outputs": [
    {
     "name": "stdout",
     "output_type": "stream",
     "text": [
      "No <i>[x42]</i>\r\n",
      "I don't know why you bother\r\n",
      "Nothing's ever good enough for you.\r\n",
      "(By the way) I was there and it wasn't like that.\r\n",
      "You've come here just to start a fight\r\n",
      "You had to piss on our parade\r\n",
      "You had to shred our big day\r\n",
      "You had to ruin it for all concerned\r\n",
      "In a drunken punch-up at a wedding\r\n",
      "Yeah\r\n",
      "Hypocrite opportunist\r\n",
      "Don't infect me with your poison\r\n",
      "A bully in a china shop\r\n",
      "When I turn 'round you stay frozen to the spot\r\n",
      "You had the pointless snide remarks\r\n",
      "Of hammerheaded sharks\r\n",
      "The pot will call the kettle black\r\n",
      "It's a drunken punch-up at a wedding yeah\r\n",
      "Oh no no\n"
     ]
    }
   ],
   "source": [
    "print(get_lyrics(\"Radiohead\", \"A Punchup at a Wedding\"))"
   ]
  },
  {
   "cell_type": "markdown",
   "metadata": {},
   "source": [
    "If we want the word-count out of this song, it would make sense to list out all of the no's. This could be solved by a simple function... if the notation had a regular form, that is."
   ]
  },
  {
   "cell_type": "code",
   "execution_count": 4,
   "metadata": {
    "collapsed": false
   },
   "outputs": [
    {
     "name": "stdout",
     "output_type": "stream",
     "text": [
      "Are you hungry?\r\n",
      "Are you sick?\r\n",
      "Are you begging for a break?\r\n",
      "Are you sweet?\r\n",
      "Are you fresh?\r\n",
      "Are you strung up by the wrists?\r\n",
      "We want the young blood (la <i>[x8]</i>)\r\n",
      "Are you fracturing?\r\n",
      "Are you torn at the seams?\r\n",
      "Would you do anything?\r\n",
      "Fleabitten motheaten?\r\n",
      "We suck young blood (la <i>[x8]</i>)\r\n",
      "We suck young blood (la <i>[x8]</i>)\r\n",
      "Woah woah\r\n",
      "Won't let the creeping ivy\r\n",
      "Won't let the nervous bury me\r\n",
      "Our veins are thin\r\n",
      "Our rivers poisoned\r\n",
      "We want the sweet meat (la <i>[x8]</i>)\r\n",
      "We want the young blood \r\n",
      "La <i>[x8]</i>\n"
     ]
    }
   ],
   "source": [
    "print(get_lyrics(\"Radiohead\", \"We Suck Young Blood\"))"
   ]
  },
  {
   "cell_type": "markdown",
   "metadata": {},
   "source": [
    "Here it shows that the information in the parentheses should be repeated, not the whole line. This isn't the only irregularity, either:"
   ]
  },
  {
   "cell_type": "code",
   "execution_count": 5,
   "metadata": {
    "collapsed": false
   },
   "outputs": [
    {
     "name": "stdout",
     "output_type": "stream",
     "text": [
      "Flies are buzzing around my head\r\n",
      "Vultures circling the dead\r\n",
      "Picking up every last crumb\r\n",
      "The big fish eat the little ones\r\n",
      "The big fish eat the little ones\r\n",
      "Not my problem give me some\n",
      "\r\n",
      "You can try the best you can\r\n",
      "If you try the best you can\r\n",
      "The best you can is good enough\n",
      "<i>[x2]</i>\n",
      "\r\n",
      "This one's optimistic\r\n",
      "This one went to market\r\n",
      "This one just came out of the swamp\r\n",
      "This one dropped a payload\r\n",
      "Fodder for the animals\r\n",
      "Living on an animal farm\n",
      "\r\n",
      "If you try the best you can\r\n",
      "If you try the best you can\r\n",
      "The best you can is good enough\n",
      "<i>[x2]</i>\n",
      "\r\n",
      "I'd really like to help you man\r\n",
      "I'd really like to help you man.....\r\n",
      "Nervous messed up marionette\r\n",
      "Floating around on a prison ship\n",
      "\r\n",
      "If you try the best you can\r\n",
      "If you try the best you can\r\n",
      "The best you can is good enough\r\n",
      "If you try the best you can\r\n",
      "If you try the best you can\r\n",
      "Dinosaurs roaming the earth <i>[x3]</i>\n"
     ]
    }
   ],
   "source": [
    "print(get_lyrics(\"Radiohead\", \"Optimistic\"))"
   ]
  },
  {
   "cell_type": "markdown",
   "metadata": {},
   "source": [
    "Here it means that the whole paragraph should be repeated. And finally, here is the most interesting case of trascription with repetition:"
   ]
  },
  {
   "cell_type": "code",
   "execution_count": 6,
   "metadata": {
    "collapsed": false,
    "scrolled": true
   },
   "outputs": [
    {
     "name": "stdout",
     "output_type": "stream",
     "text": [
      "<i>[3x:]</i>\n",
      "A moon-shaped pool, dancing clothes,\n",
      "You love and now I know, but hold me, hold me.\n",
      "\n",
      "Sweet-faced ones with nothing left inside\n",
      "That we all can love\n",
      "That we all can love\n",
      "That we all...\n",
      "\n",
      "Sweet-faced ones with nothing left inside\n",
      "That we all can love\n",
      "That we all can love\n",
      "That we all...\n",
      "\n",
      "And now I see you messing me around\n",
      "I don't want to know\n",
      "I don't want to know\n",
      "I don't want to know\n",
      "\n",
      "And now I see you messing me around\n",
      "I don't want to know\n",
      "I don't want to know\n",
      "I don't want to know\n",
      "\n",
      "Broken hearts make it rain\n",
      "Broken hearts make it rain\n",
      "Broken hearts make it rain\n",
      "Broken hearts make it rain\n",
      "Broken hearts make it rain\n",
      "Broken hearts make it rain\n",
      "Broken hearts make it rain\n",
      "Broken hearts make it rain\n",
      "Broken hearts make it rain\n",
      "Broken hearts\n",
      "\n",
      "Broken hearts make it rain\n",
      "Broken hearts make it rain\n",
      "Broken hearts make it rain\n",
      "Broken hearts make it rain\n",
      "Broken hearts make it rain\n",
      "Broken hearts make it rain\n",
      "Broken hearts make it rain\n",
      "Broken hearts make it rain\n",
      "\n",
      "Pieces of a ragdoll mankind\n",
      "That you can't create\n",
      "That we can create\n",
      "That we can...\n",
      "\n",
      "Pieces of a ragdoll mankind\n",
      "That you can't create\n",
      "That we can create\n",
      "That we can create\n",
      "\n",
      "But when I see you messing me around\n",
      "And I don't want to know\n",
      "I don't want to know\n",
      "I don't want to know.\n",
      "\n",
      "But when I see you messing me around\n",
      "And I don't want to know\n",
      "I don't want to know\n",
      "I don't want to know.\n"
     ]
    }
   ],
   "source": [
    "print(get_lyrics(\"Radiohead\", \"Identikit\"))"
   ]
  },
  {
   "cell_type": "markdown",
   "metadata": {},
   "source": [
    "Whoever transcribed this ignored all other repetition aside from that in the first stanza. Also, the repetition mark is before the thing to be repeated, when every other case has it after."
   ]
  },
  {
   "cell_type": "markdown",
   "metadata": {},
   "source": [
    "To solve this, I automated the repetition for simple ones, which make up the majority. I saved the rest to do manually."
   ]
  },
  {
   "cell_type": "markdown",
   "metadata": {
    "collapsed": true
   },
   "source": [
    "Also worth noting, on the songs \"You\" and \"Motion Picture Soundtrack\", which both have lyrics from an earlier version of the song. We don't want these because they didn't make it to the album."
   ]
  },
  {
   "cell_type": "markdown",
   "metadata": {},
   "source": [
    "Finally, in \"Idioteque\" and \"Daydreaming\", there are pieces of sound that might as well not be words because of intense distortion. \"Daydreaming\" is probably the best example:"
   ]
  },
  {
   "cell_type": "code",
   "execution_count": 7,
   "metadata": {
    "collapsed": false
   },
   "outputs": [
    {
     "name": "stdout",
     "output_type": "stream",
     "text": [
      "Dreamers\n",
      "They never learn\n",
      "They never learn\n",
      "Beyond the point\n",
      "Of no return\n",
      "Of no return\n",
      "\n",
      "And it's too late\n",
      "The damage is done\n",
      "The damage is done\n",
      "\n",
      "This goes\n",
      "Beyond me\n",
      "Beyond you\n",
      "The white room\n",
      "By window\n",
      "Where the sun goes\n",
      "Through\n",
      "\n",
      "We are\n",
      "Just happy to serve\n",
      "Just happy to serve\n",
      "You\n",
      "\n",
      "efil ym fo flaH\n",
      "efil ym fo flaH\n",
      "efil ym fo flaH\n",
      "efil ym fo flaH\n",
      "efil ym fo flaH\n",
      "efil ym fo flaH\n",
      "efil ym fo flaH\n",
      "efil ym fo flaH\n",
      "\n",
      "efil ym fo flaH\n",
      "efil ym fo flaH\n",
      "efil ym fo flaH\n",
      "efil ym fo flaH\n",
      "efil ym fo flaH\n",
      "efil ym fo flaH\n",
      "efil ym fo flaH\n",
      "efil ym fo flaH\n"
     ]
    }
   ],
   "source": [
    "print(get_lyrics(\"Radiohead\", \"Daydreaming\"))"
   ]
  }
 ],
 "metadata": {
  "anaconda-cloud": {},
  "kernelspec": {
   "display_name": "Python [conda root]",
   "language": "python",
   "name": "conda-root-py"
  },
  "language_info": {
   "codemirror_mode": {
    "name": "ipython",
    "version": 3
   },
   "file_extension": ".py",
   "mimetype": "text/x-python",
   "name": "python",
   "nbconvert_exporter": "python",
   "pygments_lexer": "ipython3",
   "version": "3.5.2"
  }
 },
 "nbformat": 4,
 "nbformat_minor": 1
}
