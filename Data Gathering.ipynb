{
 "cells": [
  {
   "cell_type": "markdown",
   "metadata": {},
   "source": [
    "# Radiohead Song Lyric Analysis\n",
    "### Data Gathering"
   ]
  },
  {
   "cell_type": "markdown",
   "metadata": {},
   "source": [
    "Before we can perform analysis on Radiohead song lyrics, we need to obtain and organize them. To start, I found the songs that I wanted the lyrics for. Radiohead has a lot of songs, but I only wanted the ones from their nine studio albums (I'm more familiar with these so working with them should be easier). Using data from [Wikipedia](https://en.wikipedia.org/wiki/Radiohead_discography), I put them into a [`yaml` file](Radiohead-Discography.yaml), organized them by album and song title."
   ]
  },
  {
   "cell_type": "markdown",
   "metadata": {},
   "source": [
    "Now that I have the names, I need the corresponding lyrics. I was able to find the following code on [Quora](https://www.quora.com/Whats-a-good-api-to-use-to-get-song-lyrics), created by [Sagun Shrestha](https://www.quora.com/profile/Sagun-Shrestha-7), to get lyrics from [azlyrics.com](azlyrics.com):"
   ]
  },
  {
   "cell_type": "code",
   "execution_count": 1,
   "metadata": {
    "collapsed": true
   },
   "outputs": [],
   "source": [
    "import re\n",
    "import urllib.request\n",
    "from bs4 import BeautifulSoup\n",
    "\n",
    "def get_lyrics(artist, song_title):\n",
    "    artist = artist.lower()\n",
    "    song_title = song_title.lower()\n",
    "    # remove all except alphanumeric characters from artist and song_title\n",
    "    artist = re.sub('[^A-Za-z0-9]+', \"\", artist)\n",
    "    song_title = re.sub('[^A-Za-z0-9]+', \"\", song_title)\n",
    "    if artist.startswith(\"the\"):  # remove starting 'the' from artist e.g. the who -> who\n",
    "        artist = artist[3:]\n",
    "    url = \"http://azlyrics.com/lyrics/\" + artist + \"/\" + song_title + \".html\"\n",
    "\n",
    "    try:\n",
    "        content = urllib.request.urlopen(url).read()\n",
    "    except Exception as e:\n",
    "        print(e)\n",
    "        return None\n",
    "    soup = BeautifulSoup(content, 'html.parser')\n",
    "    lyrics = str(soup)\n",
    "    # lyrics lie between up_partition and down_partition\n",
    "    up_partition = '<!-- Usage of azlyrics.com content by any third-party lyrics provider is prohibited by our licensing agreement. Sorry about that. -->'\n",
    "    down_partition = '<!-- MxM banner -->'\n",
    "    lyrics = lyrics.split(up_partition)[1]\n",
    "    lyrics = lyrics.split(down_partition)[0]\n",
    "    lyrics = lyrics.replace('<br>', '').replace('</br>', '').replace('</div>', '').strip()\n",
    "    return lyrics\n"
   ]
  },
  {
   "cell_type": "markdown",
   "metadata": {},
   "source": [
    "To test, let's grab the lyrics for their song \"Kid A\" (I can never tell what they're saying there):"
   ]
  },
  {
   "cell_type": "code",
   "execution_count": 3,
   "metadata": {
    "collapsed": false
   },
   "outputs": [
    {
     "name": "stdout",
     "output_type": "stream",
     "text": [
      "I slipped away\r\n",
      "I slipped on a little white lie\n",
      "\r\n",
      "We got heads on sticks\r\n",
      "You got ventriloquists\r\n",
      "We got heads on sticks\r\n",
      "You got ventriloquists\n",
      "\r\n",
      "Standing in the shadows at the end of my bed <i>[x4]</i>\n",
      "\r\n",
      "Rats and children follow me out of town\r\n",
      "Rats and children follow me out of town\r\n",
      "Come on kids...\n"
     ]
    }
   ],
   "source": [
    "print(get_lyrics(\"Radiohead\", \"Kid A\"))"
   ]
  },
  {
   "cell_type": "markdown",
   "metadata": {},
   "source": [
    "That's nice. With that done, it was only a matter of looping through the `yaml` file and getting the lyrics for each song. After doing this, I put them into a [`csv` file](lyrics.csv) with columns for `artist`, `album`, `song`, and `lyrics`."
   ]
  },
  {
   "cell_type": "markdown",
   "metadata": {},
   "source": [
    "This process worked for most songs, but the following did not give lyrics:  \n",
    "- How Do You Do?\n",
    "- High and Dry\n",
    "- ***Treefingers***\n",
    "- Packt Like Sardines in a Crushd Tin Box\n",
    "- Pulk/Pull Revolving Doors\n",
    "- Morning Bell/Amnesiac\n",
    "- ***Hunting Bears***\n",
    "- 2 + 2 = 5 (The Lukewarm.)\n",
    "- Sit Down. Stand Up. (Snakes & Ladders.)\n",
    "- Sail to the Moon. (Brush the Cobwebs out of th...\n",
    "- Backdrifts. (Honeymoon is Over.)\n",
    "- Go to Sleep. (Little Man being Erased.)\n",
    "- Where I End and You Begin. (The Sky is Falling...\n",
    "- We suck Young Blood. (Your Time is up.)\n",
    "- The Gloaming. (Softly Open our Mouths in the C...\n",
    "- There there. (The Boney King of Nowhere.)\n",
    "- I Will. (No man's Land.)\n",
    "- A Punchup at a Wedding. (No no no no no no no ...\n",
    "- Myxomatosis. (Judge, Jury & Executioner.)\n",
    "- Scatterbrain. (As Dead as Leaves.)\n",
    "- A Wolf at the Door. (It Girl. Rag Doll.)\n",
    "- ***Feral***\n",
    "\n",
    "For some songs in the list, this is because they have no lyrics. Those songs are emboldened and italicized.  \n",
    "\n",
    "For the other songs, it's because [azlyrics.com](azlyrics.com) has them under a different name than I do:  \n",
    "- How Do You Do? -> How Do You ~~Do~~?  \n",
    "- High and Dry -> High **&** Dry  \n",
    "- Packt Like Sardines in a Crushd Tin Box -> Packt Like Sardines in a Crush**e**d Tin Box  \n",
    "- Pulk/Pull Revolving Doors -> **Pull / Pulk** Revolving Doors  \n",
    "- Morning Bell/Amnesiac -> **Amnesiac / Morning Bell**  \n",
    "\n",
    "All of the songs with parentheses in the title are from the album Hail to the Thief, where each song was given two names. [azlyrics.com](azlyrics.com) only uses the first name for each song."
   ]
  },
  {
   "cell_type": "markdown",
   "metadata": {},
   "source": [
    "### Data Cleanup"
   ]
  },
  {
   "cell_type": "markdown",
   "metadata": {},
   "source": [
    "Sometimes the lyrics given by [azlyrics.com](azlyrics.com) were not in a useful form."
   ]
  }
 ],
 "metadata": {
  "anaconda-cloud": {},
  "kernelspec": {
   "display_name": "Python [conda root]",
   "language": "python",
   "name": "conda-root-py"
  },
  "language_info": {
   "codemirror_mode": {
    "name": "ipython",
    "version": 3
   },
   "file_extension": ".py",
   "mimetype": "text/x-python",
   "name": "python",
   "nbconvert_exporter": "python",
   "pygments_lexer": "ipython3",
   "version": "3.5.2"
  }
 },
 "nbformat": 4,
 "nbformat_minor": 1
}
